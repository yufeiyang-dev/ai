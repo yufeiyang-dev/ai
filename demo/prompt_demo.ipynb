{
 "cells": [
  {
   "cell_type": "markdown",
   "id": "c0a82661b1431c4c",
   "metadata": {},
   "source": [
    "# ChatGPT Prompt Engineering Demo"
   ]
  },
  {
   "cell_type": "markdown",
   "id": "8b2e7599cd32ea6f",
   "metadata": {},
   "source": [
    "## Setup"
   ]
  },
  {
   "cell_type": "code",
   "id": "a86190df96591a98",
   "metadata": {},
   "source": [
    "import os\n",
    "import openai\n",
    "\n",
    "from dotenv import load_dotenv, find_dotenv\n",
    "_ = load_dotenv(find_dotenv()) # read local .env file\n",
    "\n",
    "openai.api_key  = os.environ['OPENAI_API_KEY']"
   ],
   "outputs": [],
   "execution_count": null
  },
  {
   "cell_type": "code",
   "id": "da0fc466c8275166",
   "metadata": {},
   "source": [
    "client = openai.OpenAI()\n",
    "\n",
    "def get_completion(prompt, model=\"gpt-4o\"):\n",
    "    messages = [{\"role\": \"user\", \"content\": prompt}]\n",
    "    response = client.chat.completions.create(\n",
    "        model=model,\n",
    "        messages=messages,\n",
    "        temperature=0\n",
    "    )\n",
    "    return response.choices[0].message.content"
   ],
   "outputs": [],
   "execution_count": null
  },
  {
   "cell_type": "markdown",
   "id": "f7b495a4cffd8c76",
   "metadata": {},
   "source": [
    "## A few examples"
   ]
  },
  {
   "cell_type": "code",
   "id": "b1f4406ed2a63f58",
   "metadata": {},
   "source": [
    "question = \"What's Toronto's population?\""
   ],
   "outputs": [],
   "execution_count": null
  },
  {
   "cell_type": "markdown",
   "id": "dfdfd67ec49dffd1",
   "metadata": {},
   "source": [
    "### a simple chat interaction"
   ]
  },
  {
   "cell_type": "code",
   "id": "f5f01c91ef75e811",
   "metadata": {},
   "source": [
    "response = get_completion(question)\n",
    "print(response)"
   ],
   "outputs": [],
   "execution_count": null
  },
  {
   "cell_type": "markdown",
   "id": "5e1bedc9d01de8b7",
   "metadata": {},
   "source": [
    "### give more instructions"
   ]
  },
  {
   "cell_type": "code",
   "id": "4a97b75d99fa5a92",
   "metadata": {},
   "source": [
    "prompt = f\"\"\"\n",
    "Give the answer in a clear and concise manner, the question \\\n",
    "is delimited by triple backticks. Use a friendly tone.\n",
    "```{question}```\n",
    "\"\"\""
   ],
   "outputs": [],
   "execution_count": null
  },
  {
   "cell_type": "code",
   "id": "c71d27eb0d45f510",
   "metadata": {},
   "source": [
    "response = get_completion(prompt)\n",
    "print(response)"
   ],
   "outputs": [],
   "execution_count": null
  },
  {
   "cell_type": "markdown",
   "id": "96aecc38eea9d36d",
   "metadata": {},
   "source": [
    "### ask for a certain format"
   ]
  },
  {
   "cell_type": "code",
   "id": "2b7ab1a9493502c9",
   "metadata": {},
   "source": [
    "prompt = f\"\"\"\n",
    "Give the answer in a clear and concise manner, the question \\\n",
    "is delimited by triple backticks. Also add the source of your information and \\\n",
    "the last updated date of the information you provided. \\\n",
    "Provide them in a JSON format with the following keys:\n",
    "answer, source, date\n",
    "```{question}```\n",
    "\"\"\""
   ],
   "outputs": [],
   "execution_count": null
  },
  {
   "cell_type": "code",
   "id": "fa639faf2d282251",
   "metadata": {},
   "source": [
    "response = get_completion(prompt)\n",
    "print(response)"
   ],
   "outputs": [],
   "execution_count": null
  },
  {
   "cell_type": "markdown",
   "id": "613cdfa471dbbd55",
   "metadata": {},
   "source": [
    "### check if a condition matches"
   ]
  },
  {
   "cell_type": "code",
   "id": "75a3a453d357b4ad",
   "metadata": {},
   "source": [
    "prompt = f\"\"\"\n",
    "Give the answer in a clear and concise manner, the question \\\n",
    "is delimited by triple backticks. If the question is about demographic information, \\\n",
    "respond with Y, if not, respond with N.\n",
    "you should included both the answer and Y/N in a JSON format with the following keys:\n",
    "answer, is_about_demographic\n",
    "```{question}```\n",
    "\"\"\""
   ],
   "outputs": [],
   "execution_count": null
  },
  {
   "cell_type": "code",
   "id": "66e70a34ecbe99d5",
   "metadata": {},
   "source": [
    "response = get_completion(prompt)\n",
    "print(response)"
   ],
   "outputs": [],
   "execution_count": null
  },
  {
   "cell_type": "markdown",
   "id": "6435e285fe8aefea",
   "metadata": {},
   "source": [
    "## Summarizing"
   ]
  },
  {
   "cell_type": "code",
   "id": "a85a8037610957e4",
   "metadata": {},
   "source": [
    "prod_review = f\"\"\"\n",
    "Got this panda plush toy for my daughter's birthday, \\\n",
    "who loves it and takes it everywhere. It's soft and \\\n",
    "super cute, and its face has a friendly look. It's \\\n",
    "a bit small for what I paid though. I think there \\\n",
    "might be other options that are bigger for the \\\n",
    "same price. It arrived a day earlier than expected, \\\n",
    "so I got to play with it myself before I gave it \\\n",
    "to her.\n",
    "\"\"\""
   ],
   "outputs": [],
   "execution_count": null
  },
  {
   "cell_type": "markdown",
   "id": "4f67320e6afa1991",
   "metadata": {},
   "source": [
    "### with word/sentence/character limit"
   ]
  },
  {
   "cell_type": "code",
   "id": "8da948c617016652",
   "metadata": {},
   "source": [
    "prompt = f\"\"\"\n",
    "Your task is to generate a short summary of a product \\\n",
    "review from an ecommerce site.\n",
    "\n",
    "Summarize the review below, delimited by triple\n",
    "backticks, in at most 30 words.\n",
    "\n",
    "Review: ```{prod_review}```\n",
    "\"\"\"\n",
    "\n",
    "response = get_completion(prompt)\n",
    "print(response)"
   ],
   "outputs": [],
   "execution_count": null
  },
  {
   "cell_type": "markdown",
   "id": "3d08db9e58667225",
   "metadata": {},
   "source": [
    "### \"extract\" instead of \"summarize\""
   ]
  },
  {
   "cell_type": "code",
   "id": "8d47d30f480aa879",
   "metadata": {},
   "source": [
    "prompt = f\"\"\"\n",
    "Your task is to extract relevant information from \\\n",
    "a product review from an ecommerce site to give \\\n",
    "feedback to the Shipping department.\n",
    "\n",
    "From the review below, delimited by triple quotes \\\n",
    "extract the information relevant to shipping and \\\n",
    "delivery. Limit to 30 words.\n",
    "\n",
    "Review: ```{prod_review}```\n",
    "\"\"\"\n",
    "\n",
    "response = get_completion(prompt)\n",
    "print(response)"
   ],
   "outputs": [],
   "execution_count": null
  },
  {
   "cell_type": "markdown",
   "id": "b9eb34edf434a409",
   "metadata": {},
   "source": [
    "## Inferring"
   ]
  },
  {
   "cell_type": "code",
   "id": "39db30ca68f7fa84",
   "metadata": {},
   "source": [
    "lamp_review = \"\"\"\n",
    "Needed a nice lamp for my bedroom, and this one had \\\n",
    "additional storage and not too high of a price point. \\\n",
    "Got it fast.  The string to our lamp broke during the \\\n",
    "transit and the company happily sent over a new one. \\\n",
    "Came within a few days as well. It was easy to put \\\n",
    "together.  \n",
    "I had a missing part, so I contacted their \\\n",
    "support but they just send me to some random bot! \\\n",
    "I wish Lumina care more about their customers and products!!\n",
    "\"\"\"\n",
    "# I had a missing part, so I contacted their \\\n",
    "# support and the Lumina customer service helped me immediately, \\\n",
    "# which was a great experience.\"\"\""
   ],
   "outputs": [],
   "execution_count": null
  },
  {
   "cell_type": "markdown",
   "id": "85d111acfae97054",
   "metadata": {},
   "source": [
    "### Sentiment"
   ]
  },
  {
   "cell_type": "code",
   "id": "5dd7b1248ab89d8a",
   "metadata": {},
   "source": [
    "prompt = f\"\"\"\n",
    "What is the sentiment of the following product review,\n",
    "which is delimited with triple backticks?\n",
    "\n",
    "Review text: '''{lamp_review}'''\n",
    "\"\"\"\n",
    "response = get_completion(prompt)\n",
    "print(response)"
   ],
   "outputs": [],
   "execution_count": null
  },
  {
   "cell_type": "markdown",
   "id": "c0bc1a7ad8fc68b6",
   "metadata": {},
   "source": [
    "### Identify types of emotions"
   ]
  },
  {
   "cell_type": "code",
   "id": "8d5d024fe3128f45",
   "metadata": {},
   "source": [
    "prompt = f\"\"\"\n",
    "Identify a list of emotions that the writer of the \\\n",
    "following review is expressing. Include no more than \\\n",
    "five items in the list. Format your answer as a list of \\\n",
    "lower-case words separated by commas.\n",
    "\n",
    "Review text: '''{lamp_review}'''\n",
    "\"\"\"\n",
    "response = get_completion(prompt)\n",
    "print(response)"
   ],
   "outputs": [],
   "execution_count": null
  },
  {
   "cell_type": "code",
   "id": "3f2695a8aefb4d0a",
   "metadata": {},
   "source": [
    "### Extract product and company name from customer reviews"
   ],
   "outputs": [],
   "execution_count": null
  },
  {
   "cell_type": "code",
   "id": "25849a778aef7d9b",
   "metadata": {},
   "source": [
    "prompt = f\"\"\"\n",
    "Identify the following items from the review text:\n",
    "- Item purchased by reviewer\n",
    "- Company that made the item\n",
    "\n",
    "The review is delimited with triple backticks. \\\n",
    "Format your response as a JSON object with \\\n",
    "\"Item\" and \"Brand\" as the keys.\n",
    "If the information isn't present, use \"unknown\" \\\n",
    "as the value.\n",
    "Make your response as short as possible.\n",
    "\n",
    "Review text: '''{lamp_review}'''\n",
    "\"\"\"\n",
    "response = get_completion(prompt)\n",
    "print(response)"
   ],
   "outputs": [],
   "execution_count": null
  },
  {
   "cell_type": "code",
   "id": "aa8f2a3e5f975381",
   "metadata": {},
   "source": [
    "### Doing multiple tasks at once"
   ],
   "outputs": [],
   "execution_count": null
  },
  {
   "cell_type": "code",
   "id": "6deb943e339656e6",
   "metadata": {},
   "source": [
    "prompt = f\"\"\"\n",
    "Identify the following items from the review text:\n",
    "- Sentiment (positive or negative)\n",
    "- Is the reviewer expressing anger? (true or false)\n",
    "- Item purchased by reviewer\n",
    "- Company that made the item\n",
    "\n",
    "The review is delimited with triple backticks. \\\n",
    "Format your response as a JSON object with \\\n",
    "\"Sentiment\", \"Anger Level\", \"Item\" and \"Brand\" as the keys.\n",
    "If the information isn't present, use \"unknown\" \\\n",
    "as the value.\n",
    "Make your response as short as possible.\n",
    "Format the Anger value as an integer between 0 and 10.\n",
    "\n",
    "Review text: '''{lamp_review}'''\n",
    "\"\"\"\n",
    "response = get_completion(prompt)\n",
    "print(response)"
   ],
   "outputs": [],
   "execution_count": null
  },
  {
   "cell_type": "code",
   "id": "11f3fc10461153e7",
   "metadata": {},
   "source": [],
   "outputs": [],
   "execution_count": null
  },
  {
   "cell_type": "code",
   "id": "68457ccea1b1279b",
   "metadata": {},
   "source": [],
   "outputs": [],
   "execution_count": null
  },
  {
   "cell_type": "markdown",
   "id": "d6b1acd1d775798f",
   "metadata": {},
   "source": [
    "## to be continued"
   ]
  },
  {
   "cell_type": "code",
   "id": "3252a7d093bcbf33",
   "metadata": {},
   "source": [
    "import data\n",
    "\n",
    "# vacation_policy.vacation_policy"
   ],
   "outputs": [],
   "execution_count": null
  },
  {
   "cell_type": "code",
   "id": "894590dc9320d2f3",
   "metadata": {},
   "source": [
    "# def process_user_message(user_input, debug=True):\n",
    "#     delimiter = \"```\"\n",
    "#\n",
    "#     # Step 1: Check input to see if it flags the Moderation API or is a prompt injection\n",
    "#     response = client.moderations.create(\n",
    "#         model=\"omni-moderation-latest\",\n",
    "#         input=user_input\n",
    "#     )\n",
    "#     moderation_output = response.results[0]\n",
    "#\n",
    "#     if moderation_output.flagged:\n",
    "#         print(\"Step 1: Input flagged by Moderation API.\")\n",
    "#         return \"Sorry, we cannot process this request.\"\n",
    "#\n",
    "#     if debug: print(\"Step 1: Input passed moderation check.\")"
   ],
   "outputs": [],
   "execution_count": null
  }
 ],
 "metadata": {
  "kernelspec": {
   "display_name": "Python 3 (ipykernel)",
   "language": "python",
   "name": "python3"
  },
  "language_info": {
   "codemirror_mode": {
    "name": "ipython",
    "version": 3
   },
   "file_extension": ".py",
   "mimetype": "text/x-python",
   "name": "python",
   "nbconvert_exporter": "python",
   "pygments_lexer": "ipython3",
   "version": "3.9.6"
  }
 },
 "nbformat": 4,
 "nbformat_minor": 5
}
