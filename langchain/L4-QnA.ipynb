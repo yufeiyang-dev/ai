{
 "cells": [
  {
   "cell_type": "markdown",
   "id": "52824b89-532a-4e54-87e9-1410813cd39e",
   "metadata": {},
   "source": [
    "# LangChain: Q&A over Documents\n",
    "\n",
    "An example might be a tool that would allow you to query a product catalog for items of interest."
   ]
  },
  {
   "cell_type": "code",
   "id": "10c1f7b9",
   "metadata": {
    "height": 30
   },
   "source": [
    "#pip install --upgrade langchain"
   ],
   "outputs": [],
   "execution_count": null
  },
  {
   "cell_type": "code",
   "id": "b7ed03ed-1322-49e3-b2a2-33e94fb592ef",
   "metadata": {
    "height": 81,
    "tags": []
   },
   "source": [
    "import os\n",
    "\n",
    "from dotenv import load_dotenv, find_dotenv\n",
    "from langchain_core.embeddings import Embeddings\n",
    "\n",
    "_ = load_dotenv(find_dotenv()) # read local .env file"
   ],
   "outputs": [],
   "execution_count": null
  },
  {
   "cell_type": "markdown",
   "id": "ead635a0-42e2-46cc-a9f7-98419eceae6d",
   "metadata": {},
   "source": [
    "Note: LLM's do not always produce the same results. When executing the code in your notebook, you may get slightly different answers that those in the video."
   ]
  },
  {
   "cell_type": "code",
   "id": "cc533037-0b8c-4995-96a3-45b35fa13c18",
   "metadata": {
    "height": 234
   },
   "source": [
    "# account for deprecation of LLM model\n",
    "import datetime\n",
    "# Get the current date\n",
    "current_date = datetime.datetime.now().date()\n",
    "\n",
    "# Define the date after which the model should be set to \"gpt-3.5-turbo\"\n",
    "target_date = datetime.date(2024, 6, 12)\n",
    "\n",
    "# Set the model variable based on the current date\n",
    "if current_date > target_date:\n",
    "    llm_model = \"gpt-3.5-turbo\"\n",
    "else:\n",
    "    llm_model = \"gpt-3.5-turbo-1106\""
   ],
   "outputs": [],
   "execution_count": null
  },
  {
   "cell_type": "code",
   "id": "974acf8e-8f88-42de-88f8-40a82cb58e8b",
   "metadata": {
    "height": 115
   },
   "source": [
    "from langchain.chains import RetrievalQA\n",
    "from langchain.document_loaders import CSVLoader\n",
    "from langchain.vectorstores import DocArrayInMemorySearch\n",
    "from langchain_openai import OpenAI, OpenAIEmbeddings, ChatOpenAI\n",
    "from IPython.display import display, Markdown"
   ],
   "outputs": [],
   "execution_count": null
  },
  {
   "cell_type": "code",
   "id": "7249846e",
   "metadata": {
    "height": 47
   },
   "source": [
    "file = 'OutdoorClothingCatalog_1000.csv'\n",
    "loader = CSVLoader(file_path=file)"
   ],
   "outputs": [],
   "execution_count": null
  },
  {
   "cell_type": "code",
   "id": "5bfaba30",
   "metadata": {
    "height": 30
   },
   "source": [
    "from langchain.indexes import VectorstoreIndexCreator"
   ],
   "outputs": [],
   "execution_count": null
  },
  {
   "cell_type": "code",
   "id": "9b5ab657",
   "metadata": {
    "height": 30
   },
   "source": [
    "#pip install docarray"
   ],
   "outputs": [],
   "execution_count": null
  },
  {
   "cell_type": "code",
   "id": "9e200726",
   "metadata": {
    "height": 64
   },
   "source": [
    "index = VectorstoreIndexCreator(\n",
    "    embedding=OpenAIEmbeddings(),\n",
    "    vectorstore_cls=DocArrayInMemorySearch\n",
    ").from_loaders([loader])"
   ],
   "outputs": [],
   "execution_count": null
  },
  {
   "cell_type": "code",
   "id": "34562d81",
   "metadata": {
    "height": 47
   },
   "source": [
    "query =\"Please list all your shirts with sun protection \\\n",
    "in a table in markdown and summarize each one.\""
   ],
   "outputs": [],
   "execution_count": null
  },
  {
   "cell_type": "markdown",
   "id": "a9a4c615-d6e4-4dd6-bc53-a9c46df7276c",
   "metadata": {},
   "source": [
    "**Note**:\n",
    "- The notebook uses `langchain==0.0.179` and `openai==0.27.7`\n",
    "- For these library versions, `VectorstoreIndexCreator` uses `text-davinci-003` as the base model, which has been deprecated since 1 January 2024.\n",
    "- The replacement model, `gpt-3.5-turbo-instruct` will be used instead for the `query`.\n",
    "- The `response` format might be different than the video because of this replacement model."
   ]
  },
  {
   "cell_type": "code",
   "id": "cfd0cc37",
   "metadata": {
    "height": 98
   },
   "source": [
    "llm_replacement_model = OpenAI(temperature=0,\n",
    "                               model_name='gpt-3.5-turbo-instruct')\n",
    "\n",
    "response = index.query(query, \n",
    "                       llm = llm_replacement_model)"
   ],
   "outputs": [],
   "execution_count": null
  },
  {
   "cell_type": "code",
   "id": "ae21f1ff",
   "metadata": {
    "height": 30
   },
   "source": [
    "display(Markdown(response))"
   ],
   "outputs": [],
   "execution_count": null
  },
  {
   "cell_type": "markdown",
   "id": "2534597e-4b0c-4563-a208-e2dd91064438",
   "metadata": {},
   "source": [
    "## Step By Step"
   ]
  },
  {
   "cell_type": "code",
   "id": "631396c6",
   "metadata": {
    "height": 47
   },
   "source": [
    "from langchain.document_loaders import CSVLoader\n",
    "loader = CSVLoader(file_path=file)"
   ],
   "outputs": [],
   "execution_count": null
  },
  {
   "cell_type": "code",
   "id": "6c2164b5",
   "metadata": {
    "height": 30
   },
   "source": [
    "docs = loader.load()"
   ],
   "outputs": [],
   "execution_count": null
  },
  {
   "cell_type": "code",
   "id": "4a977f44",
   "metadata": {
    "height": 30
   },
   "source": [
    "docs[0]"
   ],
   "outputs": [],
   "execution_count": null
  },
  {
   "cell_type": "code",
   "id": "e875693a",
   "metadata": {
    "height": 47
   },
   "source": [
    "from langchain.embeddings import OpenAIEmbeddings\n",
    "embeddings = OpenAIEmbeddings()"
   ],
   "outputs": [],
   "execution_count": null
  },
  {
   "cell_type": "code",
   "id": "779bec75",
   "metadata": {
    "height": 30
   },
   "source": "embed = embeddings.embed_query(\"Hi my name is Steven\")",
   "outputs": [],
   "execution_count": null
  },
  {
   "cell_type": "code",
   "id": "699aaaf9",
   "metadata": {
    "height": 30
   },
   "source": [
    "print(len(embed))"
   ],
   "outputs": [],
   "execution_count": null
  },
  {
   "cell_type": "code",
   "id": "9d00d346",
   "metadata": {
    "height": 30
   },
   "source": [
    "print(embed[:5])"
   ],
   "outputs": [],
   "execution_count": null
  },
  {
   "cell_type": "code",
   "id": "27ad0bb0",
   "metadata": {
    "height": 81
   },
   "source": [
    "db = DocArrayInMemorySearch.from_documents(\n",
    "    docs, \n",
    "    embeddings\n",
    ")"
   ],
   "outputs": [],
   "execution_count": null
  },
  {
   "cell_type": "code",
   "id": "0329bfd5",
   "metadata": {
    "height": 30
   },
   "source": "query = \"Please suggest a classy shirt\"",
   "outputs": [],
   "execution_count": null
  },
  {
   "cell_type": "code",
   "id": "7909c6b7",
   "metadata": {
    "height": 30
   },
   "source": [
    "docs = db.similarity_search(query)"
   ],
   "outputs": [],
   "execution_count": null
  },
  {
   "cell_type": "code",
   "id": "43321853",
   "metadata": {
    "height": 30
   },
   "source": [
    "len(docs)"
   ],
   "outputs": [],
   "execution_count": null
  },
  {
   "cell_type": "code",
   "id": "6eba90b5",
   "metadata": {
    "height": 30
   },
   "source": [
    "docs[0]"
   ],
   "outputs": [],
   "execution_count": null
  },
  {
   "cell_type": "code",
   "id": "c0c3596e",
   "metadata": {
    "height": 30
   },
   "source": [
    "retriever = db.as_retriever()"
   ],
   "outputs": [],
   "execution_count": null
  },
  {
   "cell_type": "code",
   "id": "0625f5e8",
   "metadata": {
    "height": 30
   },
   "source": "llm = ChatOpenAI(temperature = 0.0, model_name=llm_model)",
   "outputs": [],
   "execution_count": null
  },
  {
   "cell_type": "code",
   "id": "a573f58a",
   "metadata": {
    "height": 47
   },
   "source": "qdocs = \"\".join([docs[i].page_content for i in range(len(docs))])",
   "outputs": [],
   "execution_count": null
  },
  {
   "metadata": {},
   "cell_type": "code",
   "source": "print(qdocs)",
   "id": "b225062e614dfff0",
   "outputs": [],
   "execution_count": null
  },
  {
   "cell_type": "code",
   "id": "14682d95",
   "metadata": {
    "height": 64
   },
   "source": [
    "response = llm.invoke(f\"{qdocs} Question: Please list all your \\\n",
    "shirts with sun protection in a table in markdown and summarize each one.\")\n"
   ],
   "outputs": [],
   "execution_count": null
  },
  {
   "cell_type": "code",
   "id": "8bba545b",
   "metadata": {
    "height": 30
   },
   "source": "display(Markdown(response.content))",
   "outputs": [],
   "execution_count": null
  },
  {
   "cell_type": "code",
   "id": "32c94d22",
   "metadata": {
    "height": 115
   },
   "source": [
    "qa_stuff = RetrievalQA.from_chain_type(\n",
    "    llm=llm, \n",
    "    chain_type=\"stuff\", \n",
    "    retriever=retriever, \n",
    "    verbose=True\n",
    ")"
   ],
   "outputs": [],
   "execution_count": null
  },
  {
   "cell_type": "code",
   "id": "e4769316",
   "metadata": {
    "height": 47
   },
   "source": [
    "query =  \"Please list all your classy shirts in a table \\\n",
    "in markdown and summarize each one.\""
   ],
   "outputs": [],
   "execution_count": null
  },
  {
   "cell_type": "code",
   "id": "1fc3c2f3",
   "metadata": {
    "height": 30
   },
   "source": "response = qa_stuff.run(query)",
   "outputs": [],
   "execution_count": null
  },
  {
   "cell_type": "code",
   "id": "fba1a5db",
   "metadata": {
    "height": 30
   },
   "source": [
    "display(Markdown(response))"
   ],
   "outputs": [],
   "execution_count": null
  },
  {
   "cell_type": "code",
   "id": "500ec062",
   "metadata": {
    "height": 30
   },
   "source": [
    "response = index.query(query, llm=llm)"
   ],
   "outputs": [],
   "execution_count": null
  },
  {
   "metadata": {},
   "cell_type": "code",
   "source": "print(response)",
   "id": "dd6ce8f926a601c2",
   "outputs": [],
   "execution_count": null
  },
  {
   "cell_type": "code",
   "id": "2cffb19f",
   "metadata": {
    "height": 81
   },
   "source": [
    "index = VectorstoreIndexCreator(\n",
    "    vectorstore_cls=DocArrayInMemorySearch,\n",
    "    embedding=embeddings,\n",
    ").from_loaders([loader])"
   ],
   "outputs": [],
   "execution_count": null
  },
  {
   "cell_type": "markdown",
   "id": "b325340f-26b4-4c7e-81da-da4b895ae058",
   "metadata": {},
   "source": [
    "Reminder: Download your notebook to you local computer to save your work."
   ]
  },
  {
   "cell_type": "code",
   "id": "a9b58916",
   "metadata": {
    "height": 30
   },
   "source": [],
   "outputs": [],
   "execution_count": null
  },
  {
   "cell_type": "code",
   "id": "d590b337",
   "metadata": {
    "height": 30
   },
   "source": [],
   "outputs": [],
   "execution_count": null
  },
  {
   "cell_type": "code",
   "id": "b2cb587c",
   "metadata": {
    "height": 30
   },
   "source": [],
   "outputs": [],
   "execution_count": null
  },
  {
   "cell_type": "code",
   "id": "1ec249f1",
   "metadata": {
    "height": 30
   },
   "source": [],
   "outputs": [],
   "execution_count": null
  },
  {
   "cell_type": "code",
   "id": "9d64f166",
   "metadata": {
    "height": 30
   },
   "source": [],
   "outputs": [],
   "execution_count": null
  },
  {
   "cell_type": "code",
   "id": "21322e7e",
   "metadata": {
    "height": 30
   },
   "source": [],
   "outputs": [],
   "execution_count": null
  }
 ],
 "metadata": {
  "kernelspec": {
   "display_name": "Python 3 (ipykernel)",
   "language": "python",
   "name": "python3"
  },
  "language_info": {
   "codemirror_mode": {
    "name": "ipython",
    "version": 3
   },
   "file_extension": ".py",
   "mimetype": "text/x-python",
   "name": "python",
   "nbconvert_exporter": "python",
   "pygments_lexer": "ipython3",
   "version": "3.9.17"
  }
 },
 "nbformat": 4,
 "nbformat_minor": 5
}
